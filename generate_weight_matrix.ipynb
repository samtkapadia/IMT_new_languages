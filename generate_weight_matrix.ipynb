{
  "nbformat": 4,
  "nbformat_minor": 0,
  "metadata": {
    "colab": {
      "name": "generate_weight_matrix.ipynb",
      "provenance": []
    },
    "kernelspec": {
      "name": "python3",
      "display_name": "Python 3"
    },
    "language_info": {
      "name": "python"
    }
  },
  "cells": [
    {
      "cell_type": "code",
      "metadata": {
        "id": "380MLfMJ58D7"
      },
      "source": [
        "import numpy as np\n",
        "import torch\n",
        "import torch.nn as nn\n",
        "import torch.nn.functional as F\n",
        "import torch.optim as optim\n",
        "import matplotlib.pyplot as plt\n",
        "import cv2\n",
        "import os\n",
        "from google.colab.patches import cv2_imshow\n",
        "from torchvision import datasets, transforms\n",
        "from skimage import color\n",
        "from skimage import io\n",
        "from scipy import spatial"
      ],
      "execution_count": null,
      "outputs": []
    },
    {
      "cell_type": "code",
      "metadata": {
        "id": "bPObfVnW6BDU"
      },
      "source": [
        "# use Colab GPU (ensure runtime type is set to GPU)\n",
        "\n",
        "if torch.cuda.is_available():\n",
        "  dev = \"cuda:0\"\n",
        "else:\n",
        "  dev = \"cpu\"\n",
        "\n",
        "device = torch.device(dev)"
      ],
      "execution_count": null,
      "outputs": []
    },
    {
      "cell_type": "code",
      "metadata": {
        "id": "sWygvuS46Gih"
      },
      "source": [
        "class Autoencoder(nn.Module):\n",
        "    def __init__(self):\n",
        "        super(Autoencoder, self).__init__()\n",
        "        self.encoder = nn.Sequential(\n",
        "            nn.Conv2d(1, 4, 3, stride=2, padding=1),\n",
        "            nn.ReLU(),\n",
        "            nn.Conv2d(4, 8, 3, stride=2, padding=1),\n",
        "            nn.ReLU(),\n",
        "            nn.Conv2d(8, 16, 7)\n",
        "        )\n",
        "        self.decoder = nn.Sequential(\n",
        "            nn.ConvTranspose2d(16, 8, 7),\n",
        "            nn.ReLU(),\n",
        "            nn.ConvTranspose2d(8, 4, 3, stride=2, padding=1, output_padding=1),\n",
        "            nn.ReLU(),\n",
        "            nn.ConvTranspose2d(4, 1, 3, stride=2, padding=1, output_padding=1),\n",
        "            nn.Sigmoid()\n",
        "        )\n",
        "        self.linear1 = nn.Linear(17024, 50)\n",
        "        self.linear2 = nn.Linear(50, 17024)\n",
        "\n",
        "    def forward(self, x):\n",
        "\n",
        "        enc_out = self.encoder(x)\n",
        "        x = torch.flatten(enc_out, 1)\n",
        "\n",
        "        embedding = self.linear1(x)\n",
        "        x = self.linear2(embedding)\n",
        "\n",
        "        reconstruction = torch.reshape(x, enc_out.shape)\n",
        "        reconstruction = self.decoder(reconstruction)\n",
        "        return reconstruction\n",
        "\n",
        "    def get_embedding(self, x):\n",
        "\n",
        "        with torch.no_grad():\n",
        "          enc_out = self.encoder(x)\n",
        "          x = torch.flatten(enc_out, 1)\n",
        "          embedding = self.linear1(x)\n",
        "          \n",
        "          return embedding"
      ],
      "execution_count": null,
      "outputs": []
    },
    {
      "cell_type": "code",
      "metadata": {
        "id": "owH9NilA6qQS"
      },
      "source": [
        "def train(model, data, num_epochs=5, batch_size=8, learning_rate=0.0005):\n",
        "    torch.manual_seed(42)\n",
        "    criterion = nn.MSELoss()\n",
        "    optimizer = torch.optim.Adam(model.parameters(),\n",
        "                                 lr=learning_rate, \n",
        "                                 weight_decay=1e-5)\n",
        "    outputs = []\n",
        "    batches = torch.split(data, batch_size, dim=0)\n",
        "\n",
        "    for epoch in range(num_epochs):\n",
        "      for batch in batches:\n",
        "        img = data\n",
        "        recon = model(img)\n",
        "        loss = criterion(recon, img)\n",
        "        loss.backward()\n",
        "        optimizer.step()\n",
        "        optimizer.zero_grad()\n",
        "\n",
        "      if epoch % 10 == 0:\n",
        "        print('Epoch:{}, Loss:{:.4f}'.format(epoch+1, float(loss)))\n",
        "      outputs.append((epoch, img, recon),)\n",
        "    return outputs"
      ],
      "execution_count": null,
      "outputs": []
    },
    {
      "cell_type": "code",
      "metadata": {
        "id": "DE3kDJoQ6Gm5"
      },
      "source": [
        "# set path to folder containing word images\n",
        "\n",
        "path = ''\n",
        "imgs = os.listdir(path)\n",
        "\n",
        "# load list of words\n",
        "\n",
        "words_npy = ''\n",
        "words = list(np.load(words_npy))\n",
        "words = sorted(words, key=str.casefold)"
      ],
      "execution_count": null,
      "outputs": []
    },
    {
      "cell_type": "code",
      "metadata": {
        "id": "AnQHZ9SQ6Gpk"
      },
      "source": [
        "# load images\n",
        "\n",
        "get_image = color.rgb2gray(io.imread(path + '/{}.png'.format('0')))\n",
        "images = np.zeros((100, 1, get_image.shape[0], get_image.shape[1]))\n",
        "\n",
        "for i, filename in enumerate(os.listdir(path)):\n",
        "    word = filename[:-4]\n",
        "    img = color.rgb2gray(io.imread(path + '/{}.png'.format(word)))\n",
        "    images[i, 0, :, :] = img / 255\n",
        "\n",
        "images = torch.Tensor(images)"
      ],
      "execution_count": null,
      "outputs": []
    },
    {
      "cell_type": "code",
      "metadata": {
        "id": "w5huxNIw6GsM"
      },
      "source": [
        "# load model and train\n",
        "\n",
        "model = Autoencoder().to(device)\n",
        "images = images.to(device)\n",
        "max_epochs = 1000\n",
        "outputs = train(model, images, num_epochs=max_epochs)"
      ],
      "execution_count": null,
      "outputs": []
    },
    {
      "cell_type": "code",
      "metadata": {
        "id": "ooccKWgo6GuZ"
      },
      "source": [
        "# visualise reconstructions\n",
        "\n",
        "for k in range(0, max_epochs, 100):\n",
        "    plt.figure(figsize=(36, 8))\n",
        "    imgs = outputs[k][1].cpu().numpy()\n",
        "    recon = outputs[k][2].cpu().detach().numpy()\n",
        "        \n",
        "    for i, item in enumerate(recon):\n",
        "        if i >= 5: break\n",
        "        plt.subplot(2, 5, 5+i+1)\n",
        "        plt.title(k)\n",
        "        plt.imshow(item[0], cmap='gray')"
      ],
      "execution_count": null,
      "outputs": []
    },
    {
      "cell_type": "code",
      "metadata": {
        "id": "wkzLnKzY9Lxq"
      },
      "source": [
        "# get learned embeddings\n",
        "\n",
        "model.eval()\n",
        "embeddings_out = model.get_embedding(images)\n",
        "embeddings = embeddings_out.cpu().numpy()"
      ],
      "execution_count": null,
      "outputs": []
    },
    {
      "cell_type": "code",
      "metadata": {
        "id": "iyflbMQ39Qtp"
      },
      "source": [
        "# calculate similarity matrix and save\n",
        "\n",
        "num_words = len(words)\n",
        "\n",
        "sim = np.zeros((num_words, num_words))\n",
        "for i in range(num_words):\n",
        "  for j in range(num_words):\n",
        "    a = embeddings[i, :]\n",
        "    b = embeddings[j, :]\n",
        "    sim[i, j] = 1 - spatial.distance.cosine(a, b)\n",
        "\n",
        "np.save('weight_matrix_CONVAUTO.npy', sim)"
      ],
      "execution_count": null,
      "outputs": []
    }
  ]
}